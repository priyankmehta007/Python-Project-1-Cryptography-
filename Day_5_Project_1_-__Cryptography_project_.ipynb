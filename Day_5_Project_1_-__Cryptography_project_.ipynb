{
 "cells": [
  {
   "cell_type": "markdown",
   "metadata": {},
   "source": [
    "# Cryptography"
   ]
  },
  {
   "cell_type": "code",
   "execution_count": 11,
   "metadata": {},
   "outputs": [
    {
     "output_type": "stream",
     "name": "stdout",
     "text": [
      "Collecting cryptography\n",
      "  Downloading cryptography-3.3.1-cp36-abi3-win_amd64.whl (1.5 MB)\n",
      "Collecting cffi>=1.12\n",
      "  Downloading cffi-1.14.4-cp36-cp36m-win_amd64.whl (178 kB)\n",
      "Requirement already satisfied: six>=1.4.1 in c:\\users\\aakash\\appdata\\local\\programs\\python\\python36\\lib\\site-packages (from cryptography) (1.11.0)\n",
      "Requirement already satisfied: pycparser in c:\\users\\aakash\\appdata\\local\\programs\\python\\python36\\lib\\site-packages (from cffi>=1.12->cryptography) (2.18)\n",
      "Installing collected packages: cffi, cryptography\n",
      "  Attempting uninstall: cffi\n",
      "    Found existing installation: cffi 1.11.5\n",
      "    Uninstalling cffi-1.11.5:\n",
      "      Successfully uninstalled cffi-1.11.5\n",
      "Successfully installed cffi-1.14.4 cryptography-3.3.1\n",
      "Note: you may need to restart the kernel to use updated packages.\n",
      "WARNING: You are using pip version 20.1.1; however, version 20.3.3 is available.\n",
      "You should consider upgrading via the 'C:\\Users\\Aakash\\AppData\\Local\\Programs\\Python\\Python36\\python.exe -m pip install --upgrade pip' command.\n"
     ]
    }
   ],
   "source": [
    "pip install cryptography"
   ]
  },
  {
   "cell_type": "code",
   "execution_count": 12,
   "metadata": {},
   "outputs": [],
   "source": [
    "from cryptography.fernet import Fernet"
   ]
  },
  {
   "cell_type": "code",
   "execution_count": 13,
   "metadata": {},
   "outputs": [],
   "source": [
    "def genratePassKey():\n",
    "    key = Fernet.generate_key()\n",
    "    print(key)\n",
    "    print(type(key))\n",
    "    abc = open(\"PasswordKey.key\",'wb')\n",
    "    abc.write(key)\n",
    "    abc.close()"
   ]
  },
  {
   "cell_type": "code",
   "execution_count": 14,
   "metadata": {},
   "outputs": [
    {
     "output_type": "stream",
     "name": "stdout",
     "text": [
      "b'ueW25cDs6_Al0Vau1Sd68Sh0o_bPACyz9ZD5asmkDM8='\n<class 'bytes'>\n"
     ]
    }
   ],
   "source": [
    "genratePassKey()"
   ]
  },
  {
   "cell_type": "code",
   "execution_count": 15,
   "metadata": {},
   "outputs": [],
   "source": [
    "def getMyKey():\n",
    "    abc = open(\"PasswordKey.key\",'rb')\n",
    "    return abc.read()"
   ]
  },
  {
   "cell_type": "code",
   "execution_count": 16,
   "metadata": {},
   "outputs": [
    {
     "output_type": "execute_result",
     "data": {
      "text/plain": [
       "b'ueW25cDs6_Al0Vau1Sd68Sh0o_bPACyz9ZD5asmkDM8='"
      ]
     },
     "metadata": {},
     "execution_count": 16
    }
   ],
   "source": [
    "getMyKey()"
   ]
  },
  {
   "cell_type": "code",
   "execution_count": 20,
   "metadata": {},
   "outputs": [],
   "source": [
    "def getContentFromUser():\n",
    "    return input(\"Enter the Content you want to Encrypt in your python Script\")"
   ]
  },
  {
   "cell_type": "code",
   "execution_count": 21,
   "metadata": {},
   "outputs": [
    {
     "output_type": "execute_result",
     "data": {
      "text/plain": [
       "'hello'"
      ]
     },
     "metadata": {},
     "execution_count": 21
    }
   ],
   "source": [
    "getContentFromUser()"
   ]
  },
  {
   "cell_type": "code",
   "execution_count": 25,
   "metadata": {},
   "outputs": [],
   "source": [
    "def encryptMessage(message_normal):\n",
    "    key = getMyKey()\n",
    "    k = Fernet(key)\n",
    "    encrypted_Message = k.encrypt(message_normal)\n",
    "    return encrypted_Message"
   ]
  },
  {
   "cell_type": "code",
   "execution_count": 26,
   "metadata": {},
   "outputs": [
    {
     "output_type": "execute_result",
     "data": {
      "text/plain": [
       "b'gAAAAABf3JfDN-YR1BCGq5WWW5AMvUlRnXMTpZaNseJ1h2nR1MxKjP1A73jVjkhgfdWPH8LspKpThZFzkDBKuUKMpX_6EgUQ7RiG5d1cW4lVqMgoq9J-R3pw9Oqj6JnfvvOd1bNdKqmH'"
      ]
     },
     "metadata": {},
     "execution_count": 26
    }
   ],
   "source": [
    "encryptMessage(b\" HEY THIS IS MY ATM NUMBER 123456\")"
   ]
  },
  {
   "cell_type": "code",
   "execution_count": 29,
   "metadata": {},
   "outputs": [],
   "source": [
    "def decryptMessage(message_secret):\n",
    "    key = getMyKey()\n",
    "    k = Fernet(key)\n",
    "    decrypted_Message = k.decrypt(message_secret)\n",
    "    return decrypted_Message"
   ]
  },
  {
   "cell_type": "code",
   "execution_count": 30,
   "metadata": {},
   "outputs": [
    {
     "output_type": "execute_result",
     "data": {
      "text/plain": [
       "b' HEY THIS IS MY ATM NUMBER 123456'"
      ]
     },
     "metadata": {},
     "execution_count": 30
    }
   ],
   "source": [
    "decryptMessage(b'gAAAAABf3JfDN-YR1BCGq5WWW5AMvUlRnXMTpZaNseJ1h2nR1MxKjP1A73jVjkhgfdWPH8LspKpThZFzkDBKuUKMpX_6EgUQ7RiG5d1cW4lVqMgoq9J-R3pw9Oqj6JnfvvOd1bNdKqmH')\n"
   ]
  }
 ],
 "metadata": {
  "kernelspec": {
   "name": "python3",
   "display_name": "Python 3.6.2 64-bit",
   "metadata": {
    "interpreter": {
     "hash": "f7a5641bb28080ef94ae7b6eca63d2f80cd8c14966aee1de6ed6a36f7e08c554"
    }
   }
  },
  "language_info": {
   "codemirror_mode": {
    "name": "ipython",
    "version": 3
   },
   "file_extension": ".py",
   "mimetype": "text/x-python",
   "name": "python",
   "nbconvert_exporter": "python",
   "pygments_lexer": "ipython3",
   "version": "3.6.2-final"
  }
 },
 "nbformat": 4,
 "nbformat_minor": 2
}